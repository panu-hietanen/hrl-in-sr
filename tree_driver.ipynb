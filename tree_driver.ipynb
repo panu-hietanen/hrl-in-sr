{
 "cells": [
  {
   "cell_type": "code",
   "execution_count": null,
   "metadata": {},
   "outputs": [],
   "source": [
    "from libs.srenv import SREnv\n",
    "from libs.tree import Tree\n",
    "\n",
    "import numpy as np"
   ]
  },
  {
   "cell_type": "code",
   "execution_count": 5,
   "metadata": {},
   "outputs": [],
   "source": [
    "lib = {\n",
    "    '+': 2,\n",
    "    '-': 2,\n",
    "    '/': 2,\n",
    "    '*': 2,\n",
    "    'cos': 1,\n",
    "    'sin': 1,\n",
    "    'X0': 0,\n",
    "    'X1': 0,\n",
    "    'X2': 0,\n",
    "    'C': 0\n",
    "}\n",
    "\n",
    "X = [1, 1]\n",
    "y = 2"
   ]
  },
  {
   "cell_type": "code",
   "execution_count": 3,
   "metadata": {},
   "outputs": [],
   "source": [
    "env = SREnv(library=lib, data=X, target=y)"
   ]
  },
  {
   "cell_type": "code",
   "execution_count": 4,
   "metadata": {},
   "outputs": [
    {
     "name": "stdout",
     "output_type": "stream",
     "text": [
      "['+', 'X0', 'X1'] 1.0 True\n"
     ]
    }
   ],
   "source": [
    "state = env.reset()\n",
    "done = False\n",
    "\n",
    "env.tree.add_action('+')\n",
    "env.tree.add_action('X0')\n",
    "\n",
    "state, reward, done = env.step('X1')\n",
    "\n",
    "print(state, reward, done)\n"
   ]
  },
  {
   "cell_type": "code",
   "execution_count": 6,
   "metadata": {},
   "outputs": [],
   "source": [
    "tree = Tree(library=lib)\n",
    "\n",
    "tree.add_action('+')\n",
    "tree.add_action('-')\n",
    "tree.add_action('C')\n",
    "tree.add_action('/')\n",
    "tree.add_action('X0')\n",
    "tree.add_action('C')\n",
    "tree.add_action('*')\n",
    "tree.add_action('C')\n",
    "tree.add_action('cos')\n",
    "tree.add_action('X1')\n"
   ]
  },
  {
   "cell_type": "code",
   "execution_count": 8,
   "metadata": {},
   "outputs": [
    {
     "data": {
      "text/plain": [
       "['+', '-', 'C', '/', 'X0', 'C', '*', 'C', 'cos', 'X1']"
      ]
     },
     "execution_count": 8,
     "metadata": {},
     "output_type": "execute_result"
    }
   ],
   "source": [
    "tree.encode(4)"
   ]
  }
 ],
 "metadata": {
  "kernelspec": {
   "display_name": ".venv",
   "language": "python",
   "name": "python3"
  },
  "language_info": {
   "codemirror_mode": {
    "name": "ipython",
    "version": 3
   },
   "file_extension": ".py",
   "mimetype": "text/x-python",
   "name": "python",
   "nbconvert_exporter": "python",
   "pygments_lexer": "ipython3",
   "version": "3.10.12"
  }
 },
 "nbformat": 4,
 "nbformat_minor": 2
}
