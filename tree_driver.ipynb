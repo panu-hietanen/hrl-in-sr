{
 "cells": [
  {
   "cell_type": "code",
   "execution_count": 1,
   "metadata": {},
   "outputs": [],
   "source": [
    "from libs.srenv import SREnv\n",
    "\n",
    "import numpy as np\n",
    "import torch"
   ]
  },
  {
   "cell_type": "code",
   "execution_count": 2,
   "metadata": {},
   "outputs": [],
   "source": [
    "lib = {\n",
    "    '+': 2,\n",
    "    '-': 2,\n",
    "    '/': 2,\n",
    "    '*': 2,\n",
    "    'cos': 1,\n",
    "    'sin': 1,\n",
    "    'X0': 0,\n",
    "    'X1': 0,\n",
    "    'X2': 0,\n",
    "    'C': 0\n",
    "}\n",
    "\n",
    "X = torch.randn([2, 5])\n",
    "y = 2.2 - X[0] / 11 + 7 * torch.cos(X[1])"
   ]
  },
  {
   "cell_type": "code",
   "execution_count": 3,
   "metadata": {},
   "outputs": [
    {
     "name": "stdout",
     "output_type": "stream",
     "text": [
      "tensor([[-0.4206,  0.6441, -0.9489,  1.8143,  0.9127],\n",
      "        [-1.7255,  0.5691, -0.9963, -0.2612, -0.6548]])\n",
      "tensor([1.1594, 8.0382, 6.0902, 8.7977, 7.6691])\n"
     ]
    }
   ],
   "source": [
    "print(X)\n",
    "print(y)"
   ]
  },
  {
   "cell_type": "code",
   "execution_count": 4,
   "metadata": {},
   "outputs": [
    {
     "name": "stdout",
     "output_type": "stream",
     "text": [
      "torch.Size([5])\n"
     ]
    }
   ],
   "source": [
    "print(y.shape)"
   ]
  },
  {
   "cell_type": "code",
   "execution_count": 5,
   "metadata": {},
   "outputs": [],
   "source": [
    "env = SREnv(library=lib, data=X, target=y)"
   ]
  },
  {
   "cell_type": "code",
   "execution_count": 6,
   "metadata": {},
   "outputs": [
    {
     "name": "stdout",
     "output_type": "stream",
     "text": [
      "['+', 'PAD', 'PAD']\n",
      "['+', '-', 'PAD', 'PAD', 'PAD']\n",
      "['+', '-', 'C', 'PAD', 'PAD']\n",
      "['+', '-', 'C', '/', 'PAD', 'PAD', 'PAD']\n",
      "['+', '-', 'C', '/', 'X0', 'PAD', 'PAD']\n",
      "['+', '-', 'C', '/', 'X0', 'C', 'PAD']\n",
      "['+', '-', 'C', '/', 'X0', 'C', '*', 'PAD', 'PAD']\n",
      "['+', '-', 'C', '/', 'X0', 'C', '*', 'C', 'PAD']\n",
      "['+', '-', 'C', '/', 'X0', 'C', '*', 'C', 'cos', 'PAD']\n",
      "['+', '-', 'C', '/', 'X0', 'C', '*', 'C', 'cos', 'X1']\n",
      "tensor(1.)\n"
     ]
    }
   ],
   "source": [
    "state = env.reset()\n",
    "a = ['+', '-', 'C', '/', 'X0', 'C', '*', 'C', 'cos', 'X1']\n",
    "done = False\n",
    "\n",
    "for i in range(len(a)):\n",
    "    action = a[i]\n",
    "    state, reward, done = env.step(action)\n",
    "    print(state)\n",
    "\n",
    "print(reward)\n"
   ]
  },
  {
   "cell_type": "code",
   "execution_count": 7,
   "metadata": {},
   "outputs": [
    {
     "data": {
      "text/plain": [
       "tensor([ 2.2000, 10.9998,  7.0000])"
      ]
     },
     "execution_count": 7,
     "metadata": {},
     "output_type": "execute_result"
    }
   ],
   "source": [
    "env.expression.optimized_constants"
   ]
  }
 ],
 "metadata": {
  "kernelspec": {
   "display_name": ".venv",
   "language": "python",
   "name": "python3"
  },
  "language_info": {
   "codemirror_mode": {
    "name": "ipython",
    "version": 3
   },
   "file_extension": ".py",
   "mimetype": "text/x-python",
   "name": "python",
   "nbconvert_exporter": "python",
   "pygments_lexer": "ipython3",
   "version": "3.10.12"
  }
 },
 "nbformat": 4,
 "nbformat_minor": 2
}
